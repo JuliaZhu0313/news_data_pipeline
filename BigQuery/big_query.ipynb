{
 "cells": [
  {
   "cell_type": "code",
   "execution_count": 1,
   "metadata": {},
   "outputs": [],
   "source": [
    "from google.cloud import bigquery\n",
    "\n",
    "client = bigquery.Client()\n",
    "\n",
    "dataset_id = 'raw_data'\n",
    "# 获取数据集的引用\n",
    "dataset_ref = client.dataset(dataset_id)"
   ]
  },
  {
   "cell_type": "code",
   "execution_count": 3,
   "metadata": {},
   "outputs": [
    {
     "name": "stdout",
     "output_type": "stream",
     "text": [
      "Table COMPANY created.\n"
     ]
    }
   ],
   "source": [
    "# table company\n",
    "# 定义表的模式\n",
    "schema = [\n",
    "    bigquery.SchemaField(\"id\", \"STRING\", mode=\"REQUIRED\", description=\"The Unique id of the company.\"),\n",
    "    bigquery.SchemaField(\"name\", \"STRING\", mode=\"REQUIRED\", description=\"The short name of the company.\"),\n",
    "    bigquery.SchemaField(\"fullTimeEmployees\", \"INTEGER\", mode=\"NULLABLE\", description=\"The employees of the company.\"),\n",
    "    bigquery.SchemaField(\"Industry\", \"STRING\", mode=\"NULLABLE\", description=\"The industry this company belongs to.\"),\n",
    "    bigquery.SchemaField(\"Country\", \"STRING\", mode=\"NULLABLE\", description=\"The country this company belongs to.\"),\n",
    "]\n",
    "\n",
    "# 创建表的配置\n",
    "table_ref = dataset_ref.table(\"COMPANY\")\n",
    "table = bigquery.Table(table_ref, schema=schema)\n",
    "\n",
    "# API 请求 - 创建表\n",
    "created_table = client.create_table(table)\n",
    "print(\"Table {} created.\".format(created_table.table_id))"
   ]
  },
  {
   "cell_type": "code",
   "execution_count": 6,
   "metadata": {},
   "outputs": [
    {
     "name": "stdout",
     "output_type": "stream",
     "text": [
      "Table Finance_Situation created.\n"
     ]
    }
   ],
   "source": [
    "schema = [\n",
    "    bigquery.SchemaField(\"company_id\", \"STRING\", mode=\"REQUIRED\", description=\"The Unique id of the situation’s company.\"),\n",
    "    bigquery.SchemaField(\"AuditRisk\", \"INTEGER\", mode=\"NULLABLE\", description=\"The audit risk of the company.\"),\n",
    "    bigquery.SchemaField(\"Dividend_rate\", \"FLOAT\", mode=\"NULLABLE\", description=\"The dividend rate of the company.\"),\n",
    "    bigquery.SchemaField(\"Dividend_Yield\", \"FLOAT\", mode=\"NULLABLE\", description=\"The dividend yield of the company.\"),\n",
    "    bigquery.SchemaField(\"Payout_rate\", \"FLOAT\", mode=\"NULLABLE\", description=\"The payout rate of the company.\"),\n",
    "    bigquery.SchemaField(\"Beta\", \"FLOAT\", mode=\"NULLABLE\", description=\"The beta of the company.\"),\n",
    "    bigquery.SchemaField(\"Market_Cap\", \"FLOAT\", mode=\"NULLABLE\", description=\"The market cap proportion of the company.\"),\n",
    "    bigquery.SchemaField(\"profit_margins\", \"FLOAT\", mode=\"NULLABLE\", description=\"The profit margins of the company.\"),\n",
    "    bigquery.SchemaField(\"short_ratio\", \"FLOAT\", mode=\"NULLABLE\", description=\"The short ratio of the company.\"),\n",
    "    bigquery.SchemaField(\"quick_ratio\", \"FLOAT\", mode=\"NULLABLE\", description=\"The quick ratio of the company.\"),\n",
    "    bigquery.SchemaField(\"current_ratio\", \"FLOAT\", mode=\"NULLABLE\", description=\"The current ratio proportion of the company.\"),\n",
    "    bigquery.SchemaField(\"debtToEquity\", \"FLOAT\", mode=\"NULLABLE\", description=\"The debt to equity ratio of the company.\"),\n",
    "]\n",
    "\n",
    "# 创建表的配置\n",
    "table_ref = dataset_ref.table(\"Finance_Situation\")\n",
    "table = bigquery.Table(table_ref, schema=schema)\n",
    "\n",
    "# API 请求 - 创建表\n",
    "created_table = client.create_table(table)\n",
    "print(\"Table {} created.\".format(created_table.table_id))"
   ]
  },
  {
   "cell_type": "code",
   "execution_count": 8,
   "metadata": {},
   "outputs": [
    {
     "name": "stdout",
     "output_type": "stream",
     "text": [
      "Table Stock_Data created.\n"
     ]
    }
   ],
   "source": [
    "schema = [\n",
    "    bigquery.SchemaField(\"id\", \"STRING\", mode=\"REQUIRED\", description=\"The Unique id of the stock.\"),\n",
    "    bigquery.SchemaField(\"company_id\", \"STRING\", mode=\"REQUIRED\", description=\"The short name of the company of the stock.\"),\n",
    "    bigquery.SchemaField(\"Date\", \"DATE\", mode=\"REQUIRED\", description=\"The date of the stock.\"),\n",
    "    bigquery.SchemaField(\"Adj_Close\", \"FLOAT\", mode=\"NULLABLE\", description=\"The adjusted close price for the stock.\"),\n",
    "    bigquery.SchemaField(\"Log_Return\", \"FLOAT\", mode=\"NULLABLE\", description=\"The log return of the stock.\"),\n",
    "]\n",
    "\n",
    "# 创建表的配置\n",
    "table_ref = dataset_ref.table(\"Stock_Data\")\n",
    "table = bigquery.Table(table_ref, schema=schema)\n",
    "\n",
    "# API 请求 - 创建表\n",
    "created_table = client.create_table(table)\n",
    "print(\"Table {} created.\".format(created_table.table_id))"
   ]
  },
  {
   "cell_type": "code",
   "execution_count": 11,
   "metadata": {},
   "outputs": [
    {
     "name": "stdout",
     "output_type": "stream",
     "text": [
      "Table news created.\n"
     ]
    }
   ],
   "source": [
    "dataset_ref = client.dataset(dataset_id)\n",
    "\n",
    "# 定义表的模式\n",
    "schema = [\n",
    "    bigquery.SchemaField(\"id\", \"STRING\", mode=\"REQUIRED\", description=\"The Unique id of the news.\"),\n",
    "    bigquery.SchemaField(\"title\", \"STRING\", mode=\"REQUIRED\", description=\"The title of the news.\"),\n",
    "    bigquery.SchemaField(\"text\", \"STRING\", mode=\"REQUIRED\", description=\"The text of the news.\"),\n",
    "    bigquery.SchemaField(\"url\", \"STRING\", mode=\"NULLABLE\", description=\"The URL of the news's source.\"),\n",
    "    bigquery.SchemaField(\"publish_date\", \"DATE\", mode=\"REQUIRED\", description=\"The publish date of the news.\"),\n",
    "    bigquery.SchemaField(\"author\", \"STRING\", mode=\"NULLABLE\", description=\"The author of the news.\"),\n",
    "    bigquery.SchemaField(\"language\", \"STRING\", mode=\"NULLABLE\", description=\"The language of the news.\"),\n",
    "    bigquery.SchemaField(\"source_country\", \"STRING\", mode=\"NULLABLE\", description=\"The country of the news's source.\"),\n",
    "    bigquery.SchemaField(\"sentiment\", \"FLOAT\", mode=\"NULLABLE\", description=\"The sentiment score of the news.\"),\n",
    "]\n",
    "\n",
    "# 创建表的配置\n",
    "table_ref = dataset_ref.table(\"news\")\n",
    "table = bigquery.Table(table_ref, schema=schema)\n",
    "\n",
    "# API 请求 - 创建表\n",
    "created_table = client.create_table(table)\n",
    "print(\"Table {} created.\".format(created_table.table_id))"
   ]
  },
  {
   "cell_type": "code",
   "execution_count": 12,
   "metadata": {},
   "outputs": [
    {
     "name": "stdout",
     "output_type": "stream",
     "text": [
      "Table ID: COMPANY\n",
      "Table ID: Finance_Situation\n",
      "Table ID: Stock_Data\n",
      "Table ID: news\n",
      "Table ID: raw_news\n",
      "Table ID: raw_news_test\n"
     ]
    }
   ],
   "source": [
    "tables = client.list_tables(dataset_ref)\n",
    "for table in tables:\n",
    "    print(\"Table ID: {}\".format(table.table_id))"
   ]
  },
  {
   "cell_type": "code",
   "execution_count": 2,
   "metadata": {},
   "outputs": [
    {
     "name": "stdout",
     "output_type": "stream",
     "text": [
      "Tables contained in 'raw_data':\n",
      "Table ID: raw_news\n",
      "Schema of 'raw_news':\n",
      "Preview of the first few rows from 'raw_news':\n",
      "Empty DataFrame\n",
      "Columns: []\n",
      "Index: []\n",
      "\n",
      "\n",
      "Table ID: raw_news_test\n",
      "Schema of 'raw_news_test':\n",
      "Column name: author, Column type: STRING\n",
      "Column name: title, Column type: STRING\n",
      "Column name: description, Column type: STRING\n",
      "Column name: url, Column type: STRING\n",
      "Column name: urlToImage, Column type: STRING\n",
      "Column name: publishedAt, Column type: STRING\n",
      "Column name: content, Column type: STRING\n",
      "Column name: source_id, Column type: STRING\n",
      "Column name: source_name, Column type: STRING\n",
      "Preview of the first few rows from 'raw_news_test':\n",
      "              author                                              title  \\\n",
      "0  InvestorsObserver  PowerBand Receives TSXV Approval for Extension...   \n",
      "1      coinpedia.org  Analyst Predicts XRP’s Ascent to $1; Breakout ...   \n",
      "2      coinpedia.org  Destroyer, Set To Release New ‘Black Account’ ...   \n",
      "3                TNN  Law should keep pace with fintech and digitisa...   \n",
      "4      coinpedia.org  The Bull Run of 2024 and Why Launchpad Tokens ...   \n",
      "\n",
      "                                         description  \\\n",
      "0  TORONTO, ON / ACCESSWIRE / March 25, 2024 /  P...   \n",
      "1  The post Analyst Predicts XRP’s Ascent to $1; ...   \n",
      "2  Destroyer, Set To Release New ‘Black Account’ ...   \n",
      "3  CHENNAI: The rapid digitalisation of finance b...   \n",
      "4  The post The Bull Run of 2024 and Why Launchpa...   \n",
      "\n",
      "                                                 url  \\\n",
      "0  https://www.investorsobserver.com/news/qm-pr/5...   \n",
      "1              https://biztoc.com/x/137345cdf62dc983   \n",
      "2              https://biztoc.com/x/6a2ee8963019cb33   \n",
      "3  https://timesofindia.indiatimes.com/city/chenn...   \n",
      "4              https://biztoc.com/x/187bdc722813c83d   \n",
      "\n",
      "                                          urlToImage           publishedAt  \\\n",
      "0  https://s3.amazonaws.com/images.investorsobser...  2024-03-25T15:30:00Z   \n",
      "1     https://c.biztoc.com/p/137345cdf62dc983/s.webp  2024-03-25T15:28:36Z   \n",
      "2     https://c.biztoc.com/p/6a2ee8963019cb33/s.webp  2024-03-25T15:28:33Z   \n",
      "3  https://static.toiimg.com/thumb/msid-108770087...  2024-03-25T15:16:39Z   \n",
      "4     https://c.biztoc.com/p/187bdc722813c83d/s.webp  2024-03-25T15:12:52Z   \n",
      "\n",
      "                                             content           source_id  \\\n",
      "0  News HomeMentioned in this article\\r\\nTORONTO,...                None   \n",
      "1  The post Analyst Predicts XRPs Ascent to $1; B...                None   \n",
      "2  Destroyer, Set To Release New Black Account Fe...                None   \n",
      "3              8 fruits that help lose weight faster  the-times-of-india   \n",
      "4  The post The Bull Run of 2024 and Why Launchpa...                None   \n",
      "\n",
      "          source_name  \n",
      "0   InvestorsObserver  \n",
      "1          Biztoc.com  \n",
      "2          Biztoc.com  \n",
      "3  The Times of India  \n",
      "4          Biztoc.com  \n",
      "\n",
      "\n"
     ]
    }
   ],
   "source": [
    "#check all the tables\n",
    "\n",
    "# API 请求 - 获取数据集中的所有表\n",
    "tables = client.list_tables(dataset_ref)\n",
    "\n",
    "print(\"Tables contained in '{}':\".format(dataset_id))\n",
    "for table in tables:\n",
    "    print(\"Table ID: {}\".format(table.table_id))\n",
    "\n",
    "    # 获取表的引用和模式\n",
    "    table_ref = dataset_ref.table(table.table_id)\n",
    "    table = client.get_table(table_ref)  # API 请求\n",
    "\n",
    "    # 显示表的列名和类型\n",
    "    print(\"Schema of '{}':\".format(table.table_id))\n",
    "    for schema_field in table.schema:\n",
    "        print(\"Column name: {}, Column type: {}\".format(schema_field.name, schema_field.field_type))\n",
    "\n",
    "    # API 请求 - 预览表中的前几行数据\n",
    "    preview = client.list_rows(table, max_results=5).to_dataframe()\n",
    "    print(\"Preview of the first few rows from '{}':\".format(table.table_id))\n",
    "    print(preview)\n",
    "    print(\"\\n\")  # 添加额外空行以增强可读性"
   ]
  }
 ],
 "metadata": {
  "kernelspec": {
   "display_name": "base",
   "language": "python",
   "name": "python3"
  },
  "language_info": {
   "codemirror_mode": {
    "name": "ipython",
    "version": 3
   },
   "file_extension": ".py",
   "mimetype": "text/x-python",
   "name": "python",
   "nbconvert_exporter": "python",
   "pygments_lexer": "ipython3",
   "version": "3.9.13"
  }
 },
 "nbformat": 4,
 "nbformat_minor": 2
}
