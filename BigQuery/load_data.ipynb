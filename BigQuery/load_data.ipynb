{
 "cells": [
  {
   "cell_type": "code",
   "execution_count": 16,
   "metadata": {},
   "outputs": [],
   "source": [
    "import pandas as pd\n",
    "import csv"
   ]
  },
  {
   "cell_type": "code",
   "execution_count": 9,
   "metadata": {},
   "outputs": [],
   "source": [
    "from google.cloud import bigquery\n",
    "\n",
    "client = bigquery.Client()\n",
    "\n",
    "dataset_id = 'raw_data'\n",
    "dataset_ref = client.dataset(dataset_id)"
   ]
  },
  {
   "cell_type": "code",
   "execution_count": 13,
   "metadata": {},
   "outputs": [],
   "source": [
    "def load_data(table_id,file_path):\n",
    "    # this is autodectect schema mode\n",
    "    job_config = bigquery.LoadJobConfig(\n",
    "        source_format=bigquery.SourceFormat.CSV, skip_leading_rows=1, autodetect=True,\n",
    "    )\n",
    "\n",
    "    # specified schema\n",
    "    # job_config = bigquery.LoadJobConfig(\n",
    "    #     schema=[\n",
    "    #         bigquery.SchemaField(\"id\", \"STRING\", mode=\"REQUIRED\", description=\"The Unique id of the news.\"),\n",
    "    #         bigquery.SchemaField(\"title\", \"STRING\", mode=\"REQUIRED\", description=\"The title of the news.\"),\n",
    "    #         bigquery.SchemaField(\"text\", \"STRING\", mode=\"REQUIRED\", description=\"The text of the news.\"),\n",
    "    #         bigquery.SchemaField(\"url\", \"STRING\", mode=\"NULLABLE\", description=\"The URL of the news's source.\"),\n",
    "    #         bigquery.SchemaField(\"publish_date\", \"DATE\", mode=\"REQUIRED\", description=\"The publish date of the news.\"),\n",
    "    #         bigquery.SchemaField(\"author\", \"STRING\", mode=\"NULLABLE\", description=\"The author of the news.\"),\n",
    "    #         bigquery.SchemaField(\"language\", \"STRING\", mode=\"NULLABLE\", description=\"The language of the news.\"),\n",
    "    #         bigquery.SchemaField(\"source_country\", \"STRING\", mode=\"NULLABLE\", description=\"The country of the news's source.\"),\n",
    "    #         bigquery.SchemaField(\"sentiment\", \"FLOAT\", mode=\"NULLABLE\", description=\"The sentiment score of the news.\"),\n",
    "    #     ],\n",
    "    #     autodetect=False\n",
    "    # )\n",
    "    \n",
    "    with open(file_path, \"rb\") as source_file:\n",
    "        job = client.load_table_from_file(source_file, table_id, job_config=job_config)\n",
    "\n",
    "    job.result()  # Waits for the job to complete.\n",
    "\n",
    "    table = client.get_table(table_id)  # Make an API request.\n",
    "    print(\n",
    "        \"Loaded {} rows and {} columns to {}\".format(\n",
    "            table.num_rows, len(table.schema), table_id\n",
    "        )\n",
    "    )"
   ]
  },
  {
   "cell_type": "code",
   "execution_count": 24,
   "metadata": {},
   "outputs": [
    {
     "name": "stdout",
     "output_type": "stream",
     "text": [
      "load data: Company:\n",
      "Loaded 368 rows and 5 columns to is3107-news.raw_data.Company\n",
      "load data: FinanceSituation:\n",
      "Loaded 368 rows and 12 columns to is3107-news.raw_data.FinanceSituation\n",
      "load data: StockData:\n",
      "Loaded 22387 rows and 4 columns to is3107-news.raw_data.StockData\n",
      "load data: News:\n",
      "Loaded 36900 rows and 11 columns to is3107-news.raw_data.News\n"
     ]
    }
   ],
   "source": [
    "project_id=\"is3107-news\"\n",
    "\n",
    "TableId_FilePath_dict={\n",
    "    \"Company\":\"../Company/Company.csv\",\n",
    "    \"FinanceSituation\":\"../Finance_situation/Finance_situation.csv\",\n",
    "    \"StockData\":\"../stock_price/stock_price.csv\",\n",
    "    \"News\":\"../company news/news2.csv\",\n",
    "}\n",
    "\n",
    "for table_id,file_path in TableId_FilePath_dict.items():\n",
    "    print(f\"load data: {table_id}:\")\n",
    "    load_data(f\"{project_id}.{dataset_id}.{table_id}\",file_path)    "
   ]
  },
  {
   "cell_type": "code",
   "execution_count": 23,
   "metadata": {},
   "outputs": [],
   "source": [
    "#delete table\n",
    "\n",
    "# for table_id,file_path in TableId_FilePath_dict.items():\n",
    "#     full_table_id = f\"{project_id}.{dataset_id}.{table_id}\"\n",
    "#     client.delete_table(full_table_id)"
   ]
  }
 ],
 "metadata": {
  "kernelspec": {
   "display_name": "base",
   "language": "python",
   "name": "python3"
  },
  "language_info": {
   "codemirror_mode": {
    "name": "ipython",
    "version": 3
   },
   "file_extension": ".py",
   "mimetype": "text/x-python",
   "name": "python",
   "nbconvert_exporter": "python",
   "pygments_lexer": "ipython3",
   "version": "3.9.13"
  }
 },
 "nbformat": 4,
 "nbformat_minor": 2
}
