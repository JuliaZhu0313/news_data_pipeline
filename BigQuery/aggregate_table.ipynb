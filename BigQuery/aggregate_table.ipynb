{
 "cells": [
  {
   "cell_type": "code",
   "execution_count": 1,
   "metadata": {},
   "outputs": [],
   "source": [
    "import pandas as pd\n",
    "import numpy as np\n",
    "from google.cloud import bigquery\n",
    "\n",
    "\n",
    "client = bigquery.Client()"
   ]
  },
  {
   "cell_type": "code",
   "execution_count": 6,
   "metadata": {},
   "outputs": [],
   "source": [
    "dataset_id = 'raw_data'\n",
    "dataset_ref = client.dataset(dataset_id)"
   ]
  },
  {
   "cell_type": "code",
   "execution_count": 44,
   "metadata": {},
   "outputs": [],
   "source": [
    "sql_query = '''SELECT\n",
    "    c.Industry,\n",
    "    AVG(n.sentiment) AS sentiment,\n",
    "    AVG(f.AuditRisk) as AuditRisk,\n",
    "    AVG(f.Dividend_rate) as Dividend_rate,\n",
    "    AVG(f.Dividend_Yield) as Dividend_Yield,\n",
    "    AVG(f.Payout_rate) as Payout_rate,\n",
    "    AVG(f.Beta) as Beta,\n",
    "    AVG(f.Market_Cap) as Market_Cap,\n",
    "    AVG(f.profit_margins) as profit_margins,\n",
    "    AVG(f.short_ratio) AS short_ratio,\n",
    "    AVG(f.quick_ratio) AS quick_ratio,\n",
    "    AVG(f.current_ratio) AS current_ratio,\n",
    "    AVG(f.debtToEquity) AS debtToEquity\n",
    "FROM\n",
    "    `raw_data.FinanceSituation` AS f\n",
    "JOIN\n",
    "    `raw_data.Company` AS c\n",
    "ON\n",
    "    c.id = f.company_id\n",
    "JOIN `raw_data.Tickers` AS t\n",
    "ON t.ticker = c.id\n",
    "JOIN (SELECT * FROM `raw_data.News` WHERE publish_date >= DATE_SUB(CURRENT_DATE(), INTERVAL 6 MONTH)) AS n\n",
    "ON n.id = t.news_id\n",
    "GROUP BY\n",
    "    c.Industry;'''"
   ]
  },
  {
   "cell_type": "code",
   "execution_count": 58,
   "metadata": {},
   "outputs": [],
   "source": [
    "destination_table_id = \"is3107-news.raw_data.Industry\"\n",
    "#check existence of table\n",
    "try:\n",
    "    table = client.get_table(destination_table_id)\n",
    "    table_exists = True\n",
    "except:\n",
    "    table_exists = False"
   ]
  },
  {
   "cell_type": "code",
   "execution_count": 59,
   "metadata": {},
   "outputs": [],
   "source": [
    "#config to overwrite data in it\n",
    "job_config = bigquery.QueryJobConfig(destination=destination_table_id, write_disposition=\"WRITE_TRUNCATE\")"
   ]
  },
  {
   "cell_type": "code",
   "execution_count": 60,
   "metadata": {},
   "outputs": [],
   "source": [
    "if table_exists:\n",
    "    query_job = client.query(sql_query, job_config=job_config)\n",
    "    query_job.result()  # Wait for the query to finish execution\n",
    "else: \n",
    "    table = bigquery.Table(destination_table_id)\n",
    "    table = client.create_table(table)\n",
    "    query_job = client.query(sql_query, job_config=job_config)\n",
    "    query_job.result()  # Wait for the query to finish execution"
   ]
  }
 ],
 "metadata": {
  "kernelspec": {
   "display_name": "Python 3",
   "language": "python",
   "name": "python3"
  },
  "language_info": {
   "codemirror_mode": {
    "name": "ipython",
    "version": 3
   },
   "file_extension": ".py",
   "mimetype": "text/x-python",
   "name": "python",
   "nbconvert_exporter": "python",
   "pygments_lexer": "ipython3",
   "version": "3.10.6"
  }
 },
 "nbformat": 4,
 "nbformat_minor": 2
}
