{
 "cells": [
  {
   "cell_type": "code",
   "execution_count": 2,
   "id": "cf95d480-04d3-4fa9-91c1-5bc86c8e1bca",
   "metadata": {
    "tags": []
   },
   "outputs": [
    {
     "name": "stderr",
     "output_type": "stream",
     "text": [
      "/var/folders/hb/9qr23dms0lg2_mgzzyhsqyhh0000gn/T/ipykernel_13019/348472887.py:2: DeprecationWarning: \n",
      "Pyarrow will become a required dependency of pandas in the next major release of pandas (pandas 3.0),\n",
      "(to allow more performant data types, such as the Arrow string type, and better interoperability with other libraries)\n",
      "but was not found to be installed on your system.\n",
      "If this would cause problems for you,\n",
      "please provide us feedback at https://github.com/pandas-dev/pandas/issues/54466\n",
      "        \n",
      "  import pandas as pd\n"
     ]
    }
   ],
   "source": [
    "import numpy as np\n",
    "import pandas as pd\n",
    "import yfinance as yf\n",
    "import json"
   ]
  },
  {
   "cell_type": "code",
   "execution_count": 4,
   "id": "24227db0-bfdd-4583-be6c-e4ac5001d76b",
   "metadata": {
    "tags": []
   },
   "outputs": [],
   "source": [
    "#read in companies to use \n",
    "companies_df = pd.read_csv(\"../datasets/constituents.csv\")\n",
    "company_tickers = companies_df[\"Symbol\"].tolist()"
   ]
  },
  {
   "cell_type": "code",
   "execution_count": 5,
   "id": "31f481d6-2ee5-4cd0-8627-540ca3c54208",
   "metadata": {
    "tags": []
   },
   "outputs": [],
   "source": [
    "# Initialise two dataframes\n",
    "company_df = pd.DataFrame(columns=['id', 'name', 'fullTimeEmployees', 'Industry', 'Country'])\n",
    "finance_situation_df = pd.DataFrame(columns=['company_id', 'AuditRisk', 'Dividend rate', 'Dividend Yield', \n",
    "                                             'Payout rate', 'Beta', 'Market Cap', 'profit margins', 'short ratio', \n",
    "                                             'quick ratio', 'current ratio', 'debtToEquity'])\n"
   ]
  },
  {
   "cell_type": "code",
   "execution_count": null,
   "id": "3189a3b6-fcc2-405f-a8d8-3e8d76b6b0f5",
   "metadata": {
    "tags": []
   },
   "outputs": [],
   "source": [
    "# Retrieving information and append to data frame for each ticker\n",
    "for ticker in company_tickers:\n",
    "    try:\n",
    "        company_dict = {\"id\":ticker}\n",
    "        finance_dict = {\"company_id\":ticker}\n",
    "        company = yf.Ticker(ticker)\n",
    "        information = company.info\n",
    "        print(information)\n",
    "        company_dict.update({'name':information.get('shortName', None), 'fullTimeEmployees':information.get('fullTimeEmployees', None),\n",
    "                             'Industry':information.get('sector', None), 'Country':information.get('country', None)})\n",
    "        company_df = pd.concat([company_df, pd.DataFrame([company_dict])], ignore_index=True)\n",
    "        finance_dict.update({'AuditRisk': information.get('auditRisk', None), \n",
    "                             'Dividend rate': information.get('dividendRate', None), \n",
    "                             'Dividend Yield': information.get('dividendYield', None),\n",
    "                             'Payout rate': information.get('payoutRatio', None), \n",
    "                             'Beta': information.get('beta', None), \n",
    "                             'Market Cap': information.get('marketCap', None),\n",
    "                             'profit margins': information.get('profitMargins', None), \n",
    "                             'short ratio': information.get('shortRatio', None),\n",
    "                             'quick ratio': information.get('quickRatio', None), \n",
    "                             'current ratio': information.get('currentRatio', None),\n",
    "                             'debtToEquity': information.get('debtToEquity', None)})\n",
    "        finance_situation_df = pd.concat([finance_situation_df, pd.DataFrame([finance_dict])], ignore_index=True)\n",
    "    except Exception as e:\n",
    "        print(f\"Error retrieving data for {ticker}: {e}\")"
   ]
  },
  {
   "cell_type": "code",
   "execution_count": 5,
   "id": "09bf023f-1910-4d4f-a0e6-a6e0b8e279b4",
   "metadata": {
    "tags": []
   },
   "outputs": [],
   "source": [
    "# Convert data types\n",
    "company_df['fullTimeEmployees'] = company_df['fullTimeEmployees'].astype(float) \n",
    "columns = finance_situation_df.columns.tolist()\n",
    "finance_situation_df[columns[1:]]= finance_situation_df[columns[1:]].astype(float)"
   ]
  },
  {
   "cell_type": "code",
   "execution_count": 6,
   "id": "74b2175e-6651-4bcc-a978-cdfa5a9607d4",
   "metadata": {
    "tags": []
   },
   "outputs": [],
   "source": [
    "# transform debttoequity\n",
    "finance_situation_df['debtToEquity'] = finance_situation_df['debtToEquity']/100\n",
    "# calculate market cap ratio\n",
    "merged_df = pd.merge(company_df, finance_situation_df, left_on='id', right_on='company_id')\n",
    "industry_market_cap = merged_df.groupby('Industry')['Market Cap'].sum()\n",
    "finance_situation_df['Market Cap'] = merged_df.apply(lambda row: (row['Market Cap'] / industry_market_cap[row['Industry']]), axis=1)"
   ]
  },
  {
   "cell_type": "code",
   "execution_count": 7,
   "id": "d9fd4049-04b6-470a-b409-82f8df8fd661",
   "metadata": {
    "tags": []
   },
   "outputs": [],
   "source": [
    "# store 2 csv files\n",
    "company_df.to_csv('Company.csv', index=False) \n",
    "finance_situation_df.to_csv('../Finance_Situation/Finance_Situation.csv', index = False)"
   ]
  },
  {
   "cell_type": "code",
   "execution_count": 9,
   "id": "85d36b0a",
   "metadata": {},
   "outputs": [],
   "source": [
    "companies_df = pd.read_csv(\"/Users/wanghaojin/Desktop/exchange@NUS/IS3107/HW/Project/news_data_pipeline/datasets/constituents.csv\")\n",
    "#read in companies to use \n",
    "company_tickers = companies_df[\"Symbol\"].tolist()\n",
    "for ticker in company_tickers:\n",
    "    try:\n",
    "        company = yf.Ticker(ticker)\n",
    "        information = company.info\n",
    "        with open('/Users/wanghaojin/Desktop/exchange@NUS/IS3107/HW/Project/news_data_pipeline/Company/raw_company.json','a') as f:\n",
    "            json.dump(information,f,indent=4)\n",
    "    except Exception as e:\n",
    "        print(f\"Error retrieving data for {ticker}: {e}\")"
   ]
  }
 ],
 "metadata": {
  "kernelspec": {
   "display_name": "Python 3 (ipykernel)",
   "language": "python",
   "name": "python3"
  },
  "language_info": {
   "codemirror_mode": {
    "name": "ipython",
    "version": 3
   },
   "file_extension": ".py",
   "mimetype": "text/x-python",
   "name": "python",
   "nbconvert_exporter": "python",
   "pygments_lexer": "ipython3",
   "version": "3.9.18"
  }
 },
 "nbformat": 4,
 "nbformat_minor": 5
}
